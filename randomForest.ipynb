{
 "cells": [
  {
   "cell_type": "code",
   "execution_count": 28,
   "metadata": {},
   "outputs": [],
   "source": [
    "import pandas as pd\n",
    "from sklearn.model_selection import train_test_split\n",
    "from sklearn.ensemble import RandomForestRegressor\n",
    "from sklearn.metrics import r2_score, mean_squared_error\n",
    "from sklearn.preprocessing import LabelEncoder\n",
    "import pickle"
   ]
  },
  {
   "cell_type": "code",
   "execution_count": 29,
   "metadata": {},
   "outputs": [],
   "source": [
    "data = pd.read_csv('data/spotify_data_with_genre.csv')"
   ]
  },
  {
   "cell_type": "code",
   "execution_count": 30,
   "metadata": {},
   "outputs": [],
   "source": [
    "\n",
    "# Convert lyrics category to one-hot encoding\n",
    "# lyrics_dummies = pd.get_dummies(X['lyrics'])\n",
    "\n",
    "genre_encoder = LabelEncoder()\n",
    "artist_encoder = LabelEncoder()\n",
    "\n",
    "# = pd.get_dummies(X['genre'])\n",
    "#artist_dummies = pd.get_dummies(X['artists'])\n",
    "\n",
    "# Drop the 'lyrics' column from X\n",
    "# X = X.drop('lyrics', axis=1)\n",
    "#X = X.drop('genre', axis=1)\n",
    "#X = X.drop('artists', axis=1)\n",
    "\n",
    "#X = X.drop('releaseMonth', axis=1)\n",
    "\n",
    "data['genre'] = genre_encoder.fit_transform(data['genre'])\n",
    "data['artists'] = artist_encoder.fit_transform(data['artists'])\n",
    "\n",
    "X = data.drop('popularity', axis=1)\n",
    "y = data['popularity']\n",
    "\n",
    "X = X.drop('names', axis=1)\n",
    "# Concatenate the one-hot encoded lyrics with the remaining features in X\n",
    "# X = pd.concat([X, lyrics_dummies], axis=1)\n",
    "#X = pd.concat([X, artist_dummies], axis=1)\n",
    "#X = pd.concat([X, genre_dummies], axis=1)\n",
    "\n",
    "#X_train, X_test, y_train, y_test = train_test_split(X, y, test_size=0.2, random_state=42)"
   ]
  },
  {
   "cell_type": "code",
   "execution_count": 31,
   "metadata": {},
   "outputs": [
    {
     "name": "stdout",
     "output_type": "stream",
     "text": [
      "R^2 score: 0.8737852912472363\n",
      "MSE: 3.983211272958551\n"
     ]
    }
   ],
   "source": [
    "# Train a random forest model on the training data\n",
    "rf = RandomForestRegressor(n_estimators=100, random_state=42)\n",
    "rf.fit(X, y)\n",
    "\n",
    "# Use the model to make predictions on the test data\n",
    "y_pred = rf.predict(X)\n",
    "\n",
    "# Evaluate the performance of the model using r2_score and mean_squared_error\n",
    "r2 = r2_score(y, y_pred)\n",
    "mse = mean_squared_error(y, y_pred)\n",
    "\n",
    "print(f\"R^2 score: {r2}\")\n",
    "print(f\"MSE: {mse}\")"
   ]
  },
  {
   "cell_type": "code",
   "execution_count": 32,
   "metadata": {},
   "outputs": [
    {
     "name": "stdout",
     "output_type": "stream",
     "text": [
      "tempo: 0.22896471681335043\n",
      "length: 0.2123739772630439\n",
      "genre: 0.20959943710604179\n",
      "artists: 0.16405642081248836\n",
      "timeSinceRelease: 0.14276175739028404\n",
      "releaseMonth: 0.042243690614791475\n"
     ]
    }
   ],
   "source": [
    "importance_scores = rf.feature_importances_\n",
    "feature_importances = dict(zip(X.columns, importance_scores))\n",
    "sorted_feature_importances = sorted(feature_importances.items(), key=lambda x: x[1], reverse=True)\n",
    "for feature, importance in sorted_feature_importances:\n",
    "    print(f\"{feature}: {importance}\")"
   ]
  },
  {
   "cell_type": "code",
   "execution_count": 33,
   "metadata": {},
   "outputs": [],
   "source": [
    "with open('rf.pkl', 'wb') as file:\n",
    "    pickle.dump(rf, file)\n",
    "\n"
   ]
  },
  {
   "cell_type": "code",
   "execution_count": 34,
   "metadata": {},
   "outputs": [],
   "source": [
    "# Save genre_encoder\n",
    "with open('genre_encoder.pkl', 'wb') as file:\n",
    "    pickle.dump(genre_encoder, file)\n",
    "\n",
    "# Save artist_encoder\n",
    "with open('artist_encoder.pkl', 'wb') as file:\n",
    "    pickle.dump(artist_encoder, file)\n"
   ]
  }
 ],
 "metadata": {
  "kernelspec": {
   "display_name": "Python 3",
   "language": "python",
   "name": "python3"
  },
  "language_info": {
   "codemirror_mode": {
    "name": "ipython",
    "version": 3
   },
   "file_extension": ".py",
   "mimetype": "text/x-python",
   "name": "python",
   "nbconvert_exporter": "python",
   "pygments_lexer": "ipython3",
   "version": "3.8.2"
  },
  "orig_nbformat": 4
 },
 "nbformat": 4,
 "nbformat_minor": 2
}
